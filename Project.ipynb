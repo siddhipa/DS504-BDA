{
 "cells": [
  {
   "cell_type": "markdown",
   "metadata": {},
   "source": [
    "## Crime Analysis and Prediction in New York"
   ]
  },
  {
   "cell_type": "code",
   "execution_count": 1,
   "metadata": {},
   "outputs": [],
   "source": [
    "# import libraries\n",
    "import pandas as pd\n",
    "import numpy as np\n",
    "#pip install geopy\n",
    "# for geographic locations \n",
    "from geopy.geocoders import Nominatim  \n",
    "# visualization\n",
    "import matplotlib.pyplot as plt\n",
    "import seaborn as sns\n",
    "# model training\n",
    "from sklearn.model_selection import train_test_split\n",
    "from sklearn import metrics\n",
    "from sklearn.preprocessing import StandardScaler \n",
    "from sklearn import tree\n",
    "from sklearn.ensemble import RandomForestClassifier\n",
    "from sklearn.neighbors import KNeighborsClassifier\n",
    "\n",
    "pd.set_option('display.max_rows', None)\n",
    "pd.set_option('display.max_columns', None)"
   ]
  },
  {
   "cell_type": "code",
   "execution_count": 2,
   "metadata": {},
   "outputs": [
    {
     "name": "stderr",
     "output_type": "stream",
     "text": [
      "C:\\Users\\siddh\\anaconda3\\lib\\site-packages\\IPython\\core\\interactiveshell.py:3146: DtypeWarning: Columns (18,20) have mixed types.Specify dtype option on import or set low_memory=False.\n",
      "  has_raised = await self.run_ast_nodes(code_ast.body, cell_name,\n"
     ]
    }
   ],
   "source": [
    "# read data\n",
    "df = pd.read_csv(\"NYPD_Complaint_Data_Historic.csv\")"
   ]
  },
  {
   "cell_type": "markdown",
   "metadata": {},
   "source": [
    "#### Data Preprocessing"
   ]
  },
  {
   "cell_type": "code",
   "execution_count": 3,
   "metadata": {
    "scrolled": true
   },
   "outputs": [
    {
     "name": "stdout",
     "output_type": "stream",
     "text": [
      "<class 'pandas.core.frame.DataFrame'>\n",
      "RangeIndex: 7375993 entries, 0 to 7375992\n",
      "Data columns (total 35 columns):\n",
      " #   Column             Dtype  \n",
      "---  ------             -----  \n",
      " 0   CMPLNT_NUM         int64  \n",
      " 1   CMPLNT_FR_DT       object \n",
      " 2   CMPLNT_FR_TM       object \n",
      " 3   CMPLNT_TO_DT       object \n",
      " 4   CMPLNT_TO_TM       object \n",
      " 5   ADDR_PCT_CD        float64\n",
      " 6   RPT_DT             object \n",
      " 7   KY_CD              int64  \n",
      " 8   OFNS_DESC          object \n",
      " 9   PD_CD              float64\n",
      " 10  PD_DESC            object \n",
      " 11  CRM_ATPT_CPTD_CD   object \n",
      " 12  LAW_CAT_CD         object \n",
      " 13  BORO_NM            object \n",
      " 14  LOC_OF_OCCUR_DESC  object \n",
      " 15  PREM_TYP_DESC      object \n",
      " 16  JURIS_DESC         object \n",
      " 17  JURISDICTION_CODE  float64\n",
      " 18  PARKS_NM           object \n",
      " 19  HADEVELOPT         object \n",
      " 20  HOUSING_PSA        object \n",
      " 21  X_COORD_CD         float64\n",
      " 22  Y_COORD_CD         float64\n",
      " 23  SUSP_AGE_GROUP     object \n",
      " 24  SUSP_RACE          object \n",
      " 25  SUSP_SEX           object \n",
      " 26  TRANSIT_DISTRICT   float64\n",
      " 27  Latitude           float64\n",
      " 28  Longitude          float64\n",
      " 29  Lat_Lon            object \n",
      " 30  PATROL_BORO        object \n",
      " 31  STATION_NAME       object \n",
      " 32  VIC_AGE_GROUP      object \n",
      " 33  VIC_RACE           object \n",
      " 34  VIC_SEX            object \n",
      "dtypes: float64(8), int64(2), object(25)\n",
      "memory usage: 1.9+ GB\n"
     ]
    }
   ],
   "source": [
    "# checking data types\n",
    "df.info()"
   ]
  },
  {
   "cell_type": "code",
   "execution_count": 4,
   "metadata": {
    "scrolled": true
   },
   "outputs": [
    {
     "data": {
      "text/html": [
       "<div>\n",
       "<style scoped>\n",
       "    .dataframe tbody tr th:only-of-type {\n",
       "        vertical-align: middle;\n",
       "    }\n",
       "\n",
       "    .dataframe tbody tr th {\n",
       "        vertical-align: top;\n",
       "    }\n",
       "\n",
       "    .dataframe thead th {\n",
       "        text-align: right;\n",
       "    }\n",
       "</style>\n",
       "<table border=\"1\" class=\"dataframe\">\n",
       "  <thead>\n",
       "    <tr style=\"text-align: right;\">\n",
       "      <th></th>\n",
       "      <th>CMPLNT_NUM</th>\n",
       "      <th>CMPLNT_FR_DT</th>\n",
       "      <th>CMPLNT_FR_TM</th>\n",
       "      <th>CMPLNT_TO_DT</th>\n",
       "      <th>CMPLNT_TO_TM</th>\n",
       "      <th>ADDR_PCT_CD</th>\n",
       "      <th>RPT_DT</th>\n",
       "      <th>KY_CD</th>\n",
       "      <th>OFNS_DESC</th>\n",
       "      <th>PD_CD</th>\n",
       "      <th>PD_DESC</th>\n",
       "      <th>CRM_ATPT_CPTD_CD</th>\n",
       "      <th>LAW_CAT_CD</th>\n",
       "      <th>BORO_NM</th>\n",
       "      <th>LOC_OF_OCCUR_DESC</th>\n",
       "      <th>PREM_TYP_DESC</th>\n",
       "      <th>JURIS_DESC</th>\n",
       "      <th>JURISDICTION_CODE</th>\n",
       "      <th>PARKS_NM</th>\n",
       "      <th>HADEVELOPT</th>\n",
       "      <th>HOUSING_PSA</th>\n",
       "      <th>X_COORD_CD</th>\n",
       "      <th>Y_COORD_CD</th>\n",
       "      <th>SUSP_AGE_GROUP</th>\n",
       "      <th>SUSP_RACE</th>\n",
       "      <th>SUSP_SEX</th>\n",
       "      <th>TRANSIT_DISTRICT</th>\n",
       "      <th>Latitude</th>\n",
       "      <th>Longitude</th>\n",
       "      <th>Lat_Lon</th>\n",
       "      <th>PATROL_BORO</th>\n",
       "      <th>STATION_NAME</th>\n",
       "      <th>VIC_AGE_GROUP</th>\n",
       "      <th>VIC_RACE</th>\n",
       "      <th>VIC_SEX</th>\n",
       "    </tr>\n",
       "  </thead>\n",
       "  <tbody>\n",
       "    <tr>\n",
       "      <th>0</th>\n",
       "      <td>394506329</td>\n",
       "      <td>12/31/2019</td>\n",
       "      <td>17:30:00</td>\n",
       "      <td>NaN</td>\n",
       "      <td>NaN</td>\n",
       "      <td>32.0</td>\n",
       "      <td>12/31/2019</td>\n",
       "      <td>118</td>\n",
       "      <td>DANGEROUS WEAPONS</td>\n",
       "      <td>793.0</td>\n",
       "      <td>WEAPONS POSSESSION 3</td>\n",
       "      <td>COMPLETED</td>\n",
       "      <td>FELONY</td>\n",
       "      <td>MANHATTAN</td>\n",
       "      <td>NaN</td>\n",
       "      <td>STREET</td>\n",
       "      <td>N.Y. POLICE DEPT</td>\n",
       "      <td>0.0</td>\n",
       "      <td>NaN</td>\n",
       "      <td>NaN</td>\n",
       "      <td>NaN</td>\n",
       "      <td>999937.0</td>\n",
       "      <td>238365.0</td>\n",
       "      <td>NaN</td>\n",
       "      <td>NaN</td>\n",
       "      <td>NaN</td>\n",
       "      <td>NaN</td>\n",
       "      <td>40.820927</td>\n",
       "      <td>-73.943324</td>\n",
       "      <td>(40.82092679700002, -73.94332421899996)</td>\n",
       "      <td>PATROL BORO MAN NORTH</td>\n",
       "      <td>NaN</td>\n",
       "      <td>UNKNOWN</td>\n",
       "      <td>UNKNOWN</td>\n",
       "      <td>E</td>\n",
       "    </tr>\n",
       "    <tr>\n",
       "      <th>1</th>\n",
       "      <td>968873685</td>\n",
       "      <td>12/29/2019</td>\n",
       "      <td>16:31:00</td>\n",
       "      <td>12/29/2019</td>\n",
       "      <td>16:54:00</td>\n",
       "      <td>47.0</td>\n",
       "      <td>12/29/2019</td>\n",
       "      <td>113</td>\n",
       "      <td>FORGERY</td>\n",
       "      <td>729.0</td>\n",
       "      <td>FORGERY,ETC.,UNCLASSIFIED-FELO</td>\n",
       "      <td>COMPLETED</td>\n",
       "      <td>FELONY</td>\n",
       "      <td>BRONX</td>\n",
       "      <td>NaN</td>\n",
       "      <td>STREET</td>\n",
       "      <td>N.Y. POLICE DEPT</td>\n",
       "      <td>0.0</td>\n",
       "      <td>NaN</td>\n",
       "      <td>NaN</td>\n",
       "      <td>NaN</td>\n",
       "      <td>1022508.0</td>\n",
       "      <td>261990.0</td>\n",
       "      <td>NaN</td>\n",
       "      <td>NaN</td>\n",
       "      <td>NaN</td>\n",
       "      <td>NaN</td>\n",
       "      <td>40.885701</td>\n",
       "      <td>-73.861640</td>\n",
       "      <td>(40.885701406000074, -73.86164032499995)</td>\n",
       "      <td>PATROL BORO BRONX</td>\n",
       "      <td>NaN</td>\n",
       "      <td>UNKNOWN</td>\n",
       "      <td>UNKNOWN</td>\n",
       "      <td>E</td>\n",
       "    </tr>\n",
       "    <tr>\n",
       "      <th>2</th>\n",
       "      <td>509837549</td>\n",
       "      <td>12/15/2019</td>\n",
       "      <td>18:45:00</td>\n",
       "      <td>NaN</td>\n",
       "      <td>NaN</td>\n",
       "      <td>109.0</td>\n",
       "      <td>12/29/2019</td>\n",
       "      <td>578</td>\n",
       "      <td>HARRASSMENT 2</td>\n",
       "      <td>638.0</td>\n",
       "      <td>HARASSMENT,SUBD 3,4,5</td>\n",
       "      <td>COMPLETED</td>\n",
       "      <td>VIOLATION</td>\n",
       "      <td>QUEENS</td>\n",
       "      <td>FRONT OF</td>\n",
       "      <td>STREET</td>\n",
       "      <td>N.Y. POLICE DEPT</td>\n",
       "      <td>0.0</td>\n",
       "      <td>NaN</td>\n",
       "      <td>NaN</td>\n",
       "      <td>NaN</td>\n",
       "      <td>1034178.0</td>\n",
       "      <td>209758.0</td>\n",
       "      <td>25-44</td>\n",
       "      <td>UNKNOWN</td>\n",
       "      <td>M</td>\n",
       "      <td>NaN</td>\n",
       "      <td>40.742281</td>\n",
       "      <td>-73.819824</td>\n",
       "      <td>(40.74228115600005, -73.81982408)</td>\n",
       "      <td>PATROL BORO QUEENS NORTH</td>\n",
       "      <td>NaN</td>\n",
       "      <td>25-44</td>\n",
       "      <td>WHITE HISPANIC</td>\n",
       "      <td>F</td>\n",
       "    </tr>\n",
       "    <tr>\n",
       "      <th>3</th>\n",
       "      <td>352454313</td>\n",
       "      <td>12/28/2019</td>\n",
       "      <td>01:00:00</td>\n",
       "      <td>NaN</td>\n",
       "      <td>NaN</td>\n",
       "      <td>47.0</td>\n",
       "      <td>12/28/2019</td>\n",
       "      <td>126</td>\n",
       "      <td>MISCELLANEOUS PENAL LAW</td>\n",
       "      <td>117.0</td>\n",
       "      <td>RECKLESS ENDANGERMENT 1</td>\n",
       "      <td>COMPLETED</td>\n",
       "      <td>FELONY</td>\n",
       "      <td>BRONX</td>\n",
       "      <td>REAR OF</td>\n",
       "      <td>STREET</td>\n",
       "      <td>N.Y. POLICE DEPT</td>\n",
       "      <td>0.0</td>\n",
       "      <td>NaN</td>\n",
       "      <td>NaN</td>\n",
       "      <td>NaN</td>\n",
       "      <td>1026412.0</td>\n",
       "      <td>258211.0</td>\n",
       "      <td>18-24</td>\n",
       "      <td>BLACK</td>\n",
       "      <td>M</td>\n",
       "      <td>NaN</td>\n",
       "      <td>40.875311</td>\n",
       "      <td>-73.847545</td>\n",
       "      <td>(40.87531145100007, -73.84754521099995)</td>\n",
       "      <td>PATROL BORO BRONX</td>\n",
       "      <td>NaN</td>\n",
       "      <td>UNKNOWN</td>\n",
       "      <td>UNKNOWN</td>\n",
       "      <td>E</td>\n",
       "    </tr>\n",
       "    <tr>\n",
       "      <th>4</th>\n",
       "      <td>248803469</td>\n",
       "      <td>09/05/2008</td>\n",
       "      <td>21:41:00</td>\n",
       "      <td>NaN</td>\n",
       "      <td>NaN</td>\n",
       "      <td>NaN</td>\n",
       "      <td>09/05/2008</td>\n",
       "      <td>101</td>\n",
       "      <td>MURDER &amp; NON-NEGL. MANSLAUGHTER</td>\n",
       "      <td>NaN</td>\n",
       "      <td>NaN</td>\n",
       "      <td>COMPLETED</td>\n",
       "      <td>FELONY</td>\n",
       "      <td>NaN</td>\n",
       "      <td>OUTSIDE</td>\n",
       "      <td>NaN</td>\n",
       "      <td>N.Y. POLICE DEPT</td>\n",
       "      <td>NaN</td>\n",
       "      <td>NaN</td>\n",
       "      <td>NaN</td>\n",
       "      <td>NaN</td>\n",
       "      <td>1001215.0</td>\n",
       "      <td>193881.0</td>\n",
       "      <td>NaN</td>\n",
       "      <td>NaN</td>\n",
       "      <td>NaN</td>\n",
       "      <td>NaN</td>\n",
       "      <td>40.698827</td>\n",
       "      <td>-73.938819</td>\n",
       "      <td>(40.698827283, -73.938819047)</td>\n",
       "      <td>NaN</td>\n",
       "      <td>NaN</td>\n",
       "      <td>25-44</td>\n",
       "      <td>BLACK</td>\n",
       "      <td>M</td>\n",
       "    </tr>\n",
       "  </tbody>\n",
       "</table>\n",
       "</div>"
      ],
      "text/plain": [
       "   CMPLNT_NUM CMPLNT_FR_DT CMPLNT_FR_TM CMPLNT_TO_DT CMPLNT_TO_TM  \\\n",
       "0   394506329   12/31/2019     17:30:00          NaN          NaN   \n",
       "1   968873685   12/29/2019     16:31:00   12/29/2019     16:54:00   \n",
       "2   509837549   12/15/2019     18:45:00          NaN          NaN   \n",
       "3   352454313   12/28/2019     01:00:00          NaN          NaN   \n",
       "4   248803469   09/05/2008     21:41:00          NaN          NaN   \n",
       "\n",
       "   ADDR_PCT_CD      RPT_DT  KY_CD                        OFNS_DESC  PD_CD  \\\n",
       "0         32.0  12/31/2019    118                DANGEROUS WEAPONS  793.0   \n",
       "1         47.0  12/29/2019    113                          FORGERY  729.0   \n",
       "2        109.0  12/29/2019    578                    HARRASSMENT 2  638.0   \n",
       "3         47.0  12/28/2019    126          MISCELLANEOUS PENAL LAW  117.0   \n",
       "4          NaN  09/05/2008    101  MURDER & NON-NEGL. MANSLAUGHTER    NaN   \n",
       "\n",
       "                          PD_DESC CRM_ATPT_CPTD_CD LAW_CAT_CD    BORO_NM  \\\n",
       "0            WEAPONS POSSESSION 3        COMPLETED     FELONY  MANHATTAN   \n",
       "1  FORGERY,ETC.,UNCLASSIFIED-FELO        COMPLETED     FELONY      BRONX   \n",
       "2           HARASSMENT,SUBD 3,4,5        COMPLETED  VIOLATION     QUEENS   \n",
       "3         RECKLESS ENDANGERMENT 1        COMPLETED     FELONY      BRONX   \n",
       "4                             NaN        COMPLETED     FELONY        NaN   \n",
       "\n",
       "  LOC_OF_OCCUR_DESC PREM_TYP_DESC        JURIS_DESC  JURISDICTION_CODE  \\\n",
       "0               NaN        STREET  N.Y. POLICE DEPT                0.0   \n",
       "1               NaN        STREET  N.Y. POLICE DEPT                0.0   \n",
       "2          FRONT OF        STREET  N.Y. POLICE DEPT                0.0   \n",
       "3           REAR OF        STREET  N.Y. POLICE DEPT                0.0   \n",
       "4           OUTSIDE           NaN  N.Y. POLICE DEPT                NaN   \n",
       "\n",
       "  PARKS_NM HADEVELOPT HOUSING_PSA  X_COORD_CD  Y_COORD_CD SUSP_AGE_GROUP  \\\n",
       "0      NaN        NaN         NaN    999937.0    238365.0            NaN   \n",
       "1      NaN        NaN         NaN   1022508.0    261990.0            NaN   \n",
       "2      NaN        NaN         NaN   1034178.0    209758.0          25-44   \n",
       "3      NaN        NaN         NaN   1026412.0    258211.0          18-24   \n",
       "4      NaN        NaN         NaN   1001215.0    193881.0            NaN   \n",
       "\n",
       "  SUSP_RACE SUSP_SEX  TRANSIT_DISTRICT   Latitude  Longitude  \\\n",
       "0       NaN      NaN               NaN  40.820927 -73.943324   \n",
       "1       NaN      NaN               NaN  40.885701 -73.861640   \n",
       "2   UNKNOWN        M               NaN  40.742281 -73.819824   \n",
       "3     BLACK        M               NaN  40.875311 -73.847545   \n",
       "4       NaN      NaN               NaN  40.698827 -73.938819   \n",
       "\n",
       "                                    Lat_Lon               PATROL_BORO  \\\n",
       "0   (40.82092679700002, -73.94332421899996)     PATROL BORO MAN NORTH   \n",
       "1  (40.885701406000074, -73.86164032499995)         PATROL BORO BRONX   \n",
       "2         (40.74228115600005, -73.81982408)  PATROL BORO QUEENS NORTH   \n",
       "3   (40.87531145100007, -73.84754521099995)         PATROL BORO BRONX   \n",
       "4             (40.698827283, -73.938819047)                       NaN   \n",
       "\n",
       "  STATION_NAME VIC_AGE_GROUP        VIC_RACE VIC_SEX  \n",
       "0          NaN       UNKNOWN         UNKNOWN       E  \n",
       "1          NaN       UNKNOWN         UNKNOWN       E  \n",
       "2          NaN         25-44  WHITE HISPANIC       F  \n",
       "3          NaN       UNKNOWN         UNKNOWN       E  \n",
       "4          NaN         25-44           BLACK       M  "
      ]
     },
     "execution_count": 4,
     "metadata": {},
     "output_type": "execute_result"
    }
   ],
   "source": [
    "# data rows\n",
    "df.head()"
   ]
  },
  {
   "cell_type": "code",
   "execution_count": 5,
   "metadata": {},
   "outputs": [
    {
     "data": {
      "text/html": [
       "<div>\n",
       "<style scoped>\n",
       "    .dataframe tbody tr th:only-of-type {\n",
       "        vertical-align: middle;\n",
       "    }\n",
       "\n",
       "    .dataframe tbody tr th {\n",
       "        vertical-align: top;\n",
       "    }\n",
       "\n",
       "    .dataframe thead th {\n",
       "        text-align: right;\n",
       "    }\n",
       "</style>\n",
       "<table border=\"1\" class=\"dataframe\">\n",
       "  <thead>\n",
       "    <tr style=\"text-align: right;\">\n",
       "      <th></th>\n",
       "      <th>CMPLNT_NUM</th>\n",
       "      <th>CMPLNT_FR_DT</th>\n",
       "      <th>CMPLNT_FR_TM</th>\n",
       "      <th>CMPLNT_TO_DT</th>\n",
       "      <th>CMPLNT_TO_TM</th>\n",
       "      <th>ADDR_PCT_CD</th>\n",
       "      <th>RPT_DT</th>\n",
       "      <th>KY_CD</th>\n",
       "      <th>OFNS_DESC</th>\n",
       "      <th>PD_CD</th>\n",
       "      <th>PD_DESC</th>\n",
       "      <th>CRM_ATPT_CPTD_CD</th>\n",
       "      <th>LAW_CAT_CD</th>\n",
       "      <th>BORO_NM</th>\n",
       "      <th>LOC_OF_OCCUR_DESC</th>\n",
       "      <th>PREM_TYP_DESC</th>\n",
       "      <th>JURIS_DESC</th>\n",
       "      <th>JURISDICTION_CODE</th>\n",
       "      <th>PARKS_NM</th>\n",
       "      <th>HADEVELOPT</th>\n",
       "      <th>HOUSING_PSA</th>\n",
       "      <th>X_COORD_CD</th>\n",
       "      <th>Y_COORD_CD</th>\n",
       "      <th>SUSP_AGE_GROUP</th>\n",
       "      <th>SUSP_RACE</th>\n",
       "      <th>SUSP_SEX</th>\n",
       "      <th>TRANSIT_DISTRICT</th>\n",
       "      <th>Latitude</th>\n",
       "      <th>Longitude</th>\n",
       "      <th>Lat_Lon</th>\n",
       "      <th>PATROL_BORO</th>\n",
       "      <th>STATION_NAME</th>\n",
       "      <th>VIC_AGE_GROUP</th>\n",
       "      <th>VIC_RACE</th>\n",
       "      <th>VIC_SEX</th>\n",
       "    </tr>\n",
       "  </thead>\n",
       "  <tbody>\n",
       "    <tr>\n",
       "      <th>count</th>\n",
       "      <td>7.375993e+06</td>\n",
       "      <td>7375338</td>\n",
       "      <td>7375945</td>\n",
       "      <td>5671789</td>\n",
       "      <td>5676452</td>\n",
       "      <td>7.373827e+06</td>\n",
       "      <td>7375993</td>\n",
       "      <td>7.375993e+06</td>\n",
       "      <td>7357170</td>\n",
       "      <td>7.369715e+06</td>\n",
       "      <td>7369715</td>\n",
       "      <td>7375986</td>\n",
       "      <td>7375993</td>\n",
       "      <td>7364664</td>\n",
       "      <td>5832193</td>\n",
       "      <td>7335248</td>\n",
       "      <td>7375993</td>\n",
       "      <td>7.369715e+06</td>\n",
       "      <td>27663</td>\n",
       "      <td>346812</td>\n",
       "      <td>566710.0</td>\n",
       "      <td>7.358654e+06</td>\n",
       "      <td>7.358654e+06</td>\n",
       "      <td>2580758</td>\n",
       "      <td>3949299</td>\n",
       "      <td>3815985</td>\n",
       "      <td>163499.000000</td>\n",
       "      <td>7.358654e+06</td>\n",
       "      <td>7.358654e+06</td>\n",
       "      <td>7358654</td>\n",
       "      <td>7369258</td>\n",
       "      <td>163499</td>\n",
       "      <td>5737548</td>\n",
       "      <td>7375684</td>\n",
       "      <td>7375685</td>\n",
       "    </tr>\n",
       "    <tr>\n",
       "      <th>unique</th>\n",
       "      <td>NaN</td>\n",
       "      <td>8606</td>\n",
       "      <td>1441</td>\n",
       "      <td>6825</td>\n",
       "      <td>1441</td>\n",
       "      <td>NaN</td>\n",
       "      <td>5479</td>\n",
       "      <td>NaN</td>\n",
       "      <td>71</td>\n",
       "      <td>NaN</td>\n",
       "      <td>422</td>\n",
       "      <td>2</td>\n",
       "      <td>3</td>\n",
       "      <td>5</td>\n",
       "      <td>5</td>\n",
       "      <td>74</td>\n",
       "      <td>25</td>\n",
       "      <td>NaN</td>\n",
       "      <td>1205</td>\n",
       "      <td>279</td>\n",
       "      <td>5087.0</td>\n",
       "      <td>NaN</td>\n",
       "      <td>NaN</td>\n",
       "      <td>111</td>\n",
       "      <td>8</td>\n",
       "      <td>3</td>\n",
       "      <td>NaN</td>\n",
       "      <td>NaN</td>\n",
       "      <td>NaN</td>\n",
       "      <td>198552</td>\n",
       "      <td>8</td>\n",
       "      <td>372</td>\n",
       "      <td>202</td>\n",
       "      <td>8</td>\n",
       "      <td>5</td>\n",
       "    </tr>\n",
       "    <tr>\n",
       "      <th>top</th>\n",
       "      <td>NaN</td>\n",
       "      <td>01/01/2010</td>\n",
       "      <td>12:00:00</td>\n",
       "      <td>06/01/2020</td>\n",
       "      <td>12:00:00</td>\n",
       "      <td>NaN</td>\n",
       "      <td>05/29/2007</td>\n",
       "      <td>NaN</td>\n",
       "      <td>PETIT LARCENY</td>\n",
       "      <td>NaN</td>\n",
       "      <td>ASSAULT 3</td>\n",
       "      <td>COMPLETED</td>\n",
       "      <td>MISDEMEANOR</td>\n",
       "      <td>BROOKLYN</td>\n",
       "      <td>INSIDE</td>\n",
       "      <td>STREET</td>\n",
       "      <td>N.Y. POLICE DEPT</td>\n",
       "      <td>NaN</td>\n",
       "      <td>CENTRAL PARK</td>\n",
       "      <td>CASTLE HILL</td>\n",
       "      <td>887.0</td>\n",
       "      <td>NaN</td>\n",
       "      <td>NaN</td>\n",
       "      <td>25-44</td>\n",
       "      <td>BLACK</td>\n",
       "      <td>M</td>\n",
       "      <td>NaN</td>\n",
       "      <td>NaN</td>\n",
       "      <td>NaN</td>\n",
       "      <td>(40.750430768, -73.989282176)</td>\n",
       "      <td>PATROL BORO BRONX</td>\n",
       "      <td>125 STREET</td>\n",
       "      <td>25-44</td>\n",
       "      <td>UNKNOWN</td>\n",
       "      <td>F</td>\n",
       "    </tr>\n",
       "    <tr>\n",
       "      <th>freq</th>\n",
       "      <td>NaN</td>\n",
       "      <td>2476</td>\n",
       "      <td>196362</td>\n",
       "      <td>1461</td>\n",
       "      <td>99181</td>\n",
       "      <td>NaN</td>\n",
       "      <td>1891</td>\n",
       "      <td>NaN</td>\n",
       "      <td>1244155</td>\n",
       "      <td>NaN</td>\n",
       "      <td>640218</td>\n",
       "      <td>7250300</td>\n",
       "      <td>4140720</td>\n",
       "      <td>2186681</td>\n",
       "      <td>3747880</td>\n",
       "      <td>2352311</td>\n",
       "      <td>6556968</td>\n",
       "      <td>NaN</td>\n",
       "      <td>1641</td>\n",
       "      <td>7555</td>\n",
       "      <td>7264.0</td>\n",
       "      <td>NaN</td>\n",
       "      <td>NaN</td>\n",
       "      <td>1016688</td>\n",
       "      <td>1473260</td>\n",
       "      <td>2395200</td>\n",
       "      <td>NaN</td>\n",
       "      <td>NaN</td>\n",
       "      <td>NaN</td>\n",
       "      <td>20668</td>\n",
       "      <td>1600584</td>\n",
       "      <td>8203</td>\n",
       "      <td>2433923</td>\n",
       "      <td>2432937</td>\n",
       "      <td>2887858</td>\n",
       "    </tr>\n",
       "    <tr>\n",
       "      <th>mean</th>\n",
       "      <td>5.500260e+08</td>\n",
       "      <td>NaN</td>\n",
       "      <td>NaN</td>\n",
       "      <td>NaN</td>\n",
       "      <td>NaN</td>\n",
       "      <td>6.332321e+01</td>\n",
       "      <td>NaN</td>\n",
       "      <td>2.964090e+02</td>\n",
       "      <td>NaN</td>\n",
       "      <td>4.134606e+02</td>\n",
       "      <td>NaN</td>\n",
       "      <td>NaN</td>\n",
       "      <td>NaN</td>\n",
       "      <td>NaN</td>\n",
       "      <td>NaN</td>\n",
       "      <td>NaN</td>\n",
       "      <td>NaN</td>\n",
       "      <td>7.241108e-01</td>\n",
       "      <td>NaN</td>\n",
       "      <td>NaN</td>\n",
       "      <td>NaN</td>\n",
       "      <td>1.004851e+06</td>\n",
       "      <td>2.070959e+05</td>\n",
       "      <td>NaN</td>\n",
       "      <td>NaN</td>\n",
       "      <td>NaN</td>\n",
       "      <td>13.619502</td>\n",
       "      <td>4.073506e+01</td>\n",
       "      <td>-7.392564e+01</td>\n",
       "      <td>NaN</td>\n",
       "      <td>NaN</td>\n",
       "      <td>NaN</td>\n",
       "      <td>NaN</td>\n",
       "      <td>NaN</td>\n",
       "      <td>NaN</td>\n",
       "    </tr>\n",
       "    <tr>\n",
       "      <th>std</th>\n",
       "      <td>2.597809e+08</td>\n",
       "      <td>NaN</td>\n",
       "      <td>NaN</td>\n",
       "      <td>NaN</td>\n",
       "      <td>NaN</td>\n",
       "      <td>3.447651e+01</td>\n",
       "      <td>NaN</td>\n",
       "      <td>1.504772e+02</td>\n",
       "      <td>NaN</td>\n",
       "      <td>2.177479e+02</td>\n",
       "      <td>NaN</td>\n",
       "      <td>NaN</td>\n",
       "      <td>NaN</td>\n",
       "      <td>NaN</td>\n",
       "      <td>NaN</td>\n",
       "      <td>NaN</td>\n",
       "      <td>NaN</td>\n",
       "      <td>6.733209e+00</td>\n",
       "      <td>NaN</td>\n",
       "      <td>NaN</td>\n",
       "      <td>NaN</td>\n",
       "      <td>2.172117e+04</td>\n",
       "      <td>3.147528e+04</td>\n",
       "      <td>NaN</td>\n",
       "      <td>NaN</td>\n",
       "      <td>NaN</td>\n",
       "      <td>12.487345</td>\n",
       "      <td>8.630425e-02</td>\n",
       "      <td>7.833433e-02</td>\n",
       "      <td>NaN</td>\n",
       "      <td>NaN</td>\n",
       "      <td>NaN</td>\n",
       "      <td>NaN</td>\n",
       "      <td>NaN</td>\n",
       "      <td>NaN</td>\n",
       "    </tr>\n",
       "    <tr>\n",
       "      <th>min</th>\n",
       "      <td>1.000001e+08</td>\n",
       "      <td>NaN</td>\n",
       "      <td>NaN</td>\n",
       "      <td>NaN</td>\n",
       "      <td>NaN</td>\n",
       "      <td>1.000000e+00</td>\n",
       "      <td>NaN</td>\n",
       "      <td>1.010000e+02</td>\n",
       "      <td>NaN</td>\n",
       "      <td>1.000000e+02</td>\n",
       "      <td>NaN</td>\n",
       "      <td>NaN</td>\n",
       "      <td>NaN</td>\n",
       "      <td>NaN</td>\n",
       "      <td>NaN</td>\n",
       "      <td>NaN</td>\n",
       "      <td>NaN</td>\n",
       "      <td>0.000000e+00</td>\n",
       "      <td>NaN</td>\n",
       "      <td>NaN</td>\n",
       "      <td>NaN</td>\n",
       "      <td>1.110000e+02</td>\n",
       "      <td>1.110000e+02</td>\n",
       "      <td>NaN</td>\n",
       "      <td>NaN</td>\n",
       "      <td>NaN</td>\n",
       "      <td>1.000000</td>\n",
       "      <td>4.011271e+01</td>\n",
       "      <td>-7.751921e+01</td>\n",
       "      <td>NaN</td>\n",
       "      <td>NaN</td>\n",
       "      <td>NaN</td>\n",
       "      <td>NaN</td>\n",
       "      <td>NaN</td>\n",
       "      <td>NaN</td>\n",
       "    </tr>\n",
       "    <tr>\n",
       "      <th>25%</th>\n",
       "      <td>3.251027e+08</td>\n",
       "      <td>NaN</td>\n",
       "      <td>NaN</td>\n",
       "      <td>NaN</td>\n",
       "      <td>NaN</td>\n",
       "      <td>4.000000e+01</td>\n",
       "      <td>NaN</td>\n",
       "      <td>1.170000e+02</td>\n",
       "      <td>NaN</td>\n",
       "      <td>2.540000e+02</td>\n",
       "      <td>NaN</td>\n",
       "      <td>NaN</td>\n",
       "      <td>NaN</td>\n",
       "      <td>NaN</td>\n",
       "      <td>NaN</td>\n",
       "      <td>NaN</td>\n",
       "      <td>NaN</td>\n",
       "      <td>0.000000e+00</td>\n",
       "      <td>NaN</td>\n",
       "      <td>NaN</td>\n",
       "      <td>NaN</td>\n",
       "      <td>9.917540e+05</td>\n",
       "      <td>1.843840e+05</td>\n",
       "      <td>NaN</td>\n",
       "      <td>NaN</td>\n",
       "      <td>NaN</td>\n",
       "      <td>3.000000</td>\n",
       "      <td>4.067272e+01</td>\n",
       "      <td>-7.397294e+01</td>\n",
       "      <td>NaN</td>\n",
       "      <td>NaN</td>\n",
       "      <td>NaN</td>\n",
       "      <td>NaN</td>\n",
       "      <td>NaN</td>\n",
       "      <td>NaN</td>\n",
       "    </tr>\n",
       "    <tr>\n",
       "      <th>50%</th>\n",
       "      <td>5.500237e+08</td>\n",
       "      <td>NaN</td>\n",
       "      <td>NaN</td>\n",
       "      <td>NaN</td>\n",
       "      <td>NaN</td>\n",
       "      <td>6.300000e+01</td>\n",
       "      <td>NaN</td>\n",
       "      <td>3.410000e+02</td>\n",
       "      <td>NaN</td>\n",
       "      <td>3.840000e+02</td>\n",
       "      <td>NaN</td>\n",
       "      <td>NaN</td>\n",
       "      <td>NaN</td>\n",
       "      <td>NaN</td>\n",
       "      <td>NaN</td>\n",
       "      <td>NaN</td>\n",
       "      <td>NaN</td>\n",
       "      <td>0.000000e+00</td>\n",
       "      <td>NaN</td>\n",
       "      <td>NaN</td>\n",
       "      <td>NaN</td>\n",
       "      <td>1.004411e+06</td>\n",
       "      <td>2.060280e+05</td>\n",
       "      <td>NaN</td>\n",
       "      <td>NaN</td>\n",
       "      <td>NaN</td>\n",
       "      <td>11.000000</td>\n",
       "      <td>4.073210e+01</td>\n",
       "      <td>-7.392724e+01</td>\n",
       "      <td>NaN</td>\n",
       "      <td>NaN</td>\n",
       "      <td>NaN</td>\n",
       "      <td>NaN</td>\n",
       "      <td>NaN</td>\n",
       "      <td>NaN</td>\n",
       "    </tr>\n",
       "    <tr>\n",
       "      <th>75%</th>\n",
       "      <td>7.749954e+08</td>\n",
       "      <td>NaN</td>\n",
       "      <td>NaN</td>\n",
       "      <td>NaN</td>\n",
       "      <td>NaN</td>\n",
       "      <td>9.400000e+01</td>\n",
       "      <td>NaN</td>\n",
       "      <td>3.510000e+02</td>\n",
       "      <td>NaN</td>\n",
       "      <td>6.370000e+02</td>\n",
       "      <td>NaN</td>\n",
       "      <td>NaN</td>\n",
       "      <td>NaN</td>\n",
       "      <td>NaN</td>\n",
       "      <td>NaN</td>\n",
       "      <td>NaN</td>\n",
       "      <td>NaN</td>\n",
       "      <td>0.000000e+00</td>\n",
       "      <td>NaN</td>\n",
       "      <td>NaN</td>\n",
       "      <td>NaN</td>\n",
       "      <td>1.016626e+06</td>\n",
       "      <td>2.351790e+05</td>\n",
       "      <td>NaN</td>\n",
       "      <td>NaN</td>\n",
       "      <td>NaN</td>\n",
       "      <td>30.000000</td>\n",
       "      <td>4.081217e+01</td>\n",
       "      <td>-7.388308e+01</td>\n",
       "      <td>NaN</td>\n",
       "      <td>NaN</td>\n",
       "      <td>NaN</td>\n",
       "      <td>NaN</td>\n",
       "      <td>NaN</td>\n",
       "      <td>NaN</td>\n",
       "    </tr>\n",
       "    <tr>\n",
       "      <th>max</th>\n",
       "      <td>9.999999e+08</td>\n",
       "      <td>NaN</td>\n",
       "      <td>NaN</td>\n",
       "      <td>NaN</td>\n",
       "      <td>NaN</td>\n",
       "      <td>1.230000e+02</td>\n",
       "      <td>NaN</td>\n",
       "      <td>8.810000e+02</td>\n",
       "      <td>NaN</td>\n",
       "      <td>9.750000e+02</td>\n",
       "      <td>NaN</td>\n",
       "      <td>NaN</td>\n",
       "      <td>NaN</td>\n",
       "      <td>NaN</td>\n",
       "      <td>NaN</td>\n",
       "      <td>NaN</td>\n",
       "      <td>NaN</td>\n",
       "      <td>9.700000e+01</td>\n",
       "      <td>NaN</td>\n",
       "      <td>NaN</td>\n",
       "      <td>NaN</td>\n",
       "      <td>1.067298e+06</td>\n",
       "      <td>7.250292e+06</td>\n",
       "      <td>NaN</td>\n",
       "      <td>NaN</td>\n",
       "      <td>NaN</td>\n",
       "      <td>34.000000</td>\n",
       "      <td>5.965727e+01</td>\n",
       "      <td>-7.368479e+01</td>\n",
       "      <td>NaN</td>\n",
       "      <td>NaN</td>\n",
       "      <td>NaN</td>\n",
       "      <td>NaN</td>\n",
       "      <td>NaN</td>\n",
       "      <td>NaN</td>\n",
       "    </tr>\n",
       "  </tbody>\n",
       "</table>\n",
       "</div>"
      ],
      "text/plain": [
       "          CMPLNT_NUM CMPLNT_FR_DT CMPLNT_FR_TM CMPLNT_TO_DT CMPLNT_TO_TM  \\\n",
       "count   7.375993e+06      7375338      7375945      5671789      5676452   \n",
       "unique           NaN         8606         1441         6825         1441   \n",
       "top              NaN   01/01/2010     12:00:00   06/01/2020     12:00:00   \n",
       "freq             NaN         2476       196362         1461        99181   \n",
       "mean    5.500260e+08          NaN          NaN          NaN          NaN   \n",
       "std     2.597809e+08          NaN          NaN          NaN          NaN   \n",
       "min     1.000001e+08          NaN          NaN          NaN          NaN   \n",
       "25%     3.251027e+08          NaN          NaN          NaN          NaN   \n",
       "50%     5.500237e+08          NaN          NaN          NaN          NaN   \n",
       "75%     7.749954e+08          NaN          NaN          NaN          NaN   \n",
       "max     9.999999e+08          NaN          NaN          NaN          NaN   \n",
       "\n",
       "         ADDR_PCT_CD      RPT_DT         KY_CD      OFNS_DESC         PD_CD  \\\n",
       "count   7.373827e+06     7375993  7.375993e+06        7357170  7.369715e+06   \n",
       "unique           NaN        5479           NaN             71           NaN   \n",
       "top              NaN  05/29/2007           NaN  PETIT LARCENY           NaN   \n",
       "freq             NaN        1891           NaN        1244155           NaN   \n",
       "mean    6.332321e+01         NaN  2.964090e+02            NaN  4.134606e+02   \n",
       "std     3.447651e+01         NaN  1.504772e+02            NaN  2.177479e+02   \n",
       "min     1.000000e+00         NaN  1.010000e+02            NaN  1.000000e+02   \n",
       "25%     4.000000e+01         NaN  1.170000e+02            NaN  2.540000e+02   \n",
       "50%     6.300000e+01         NaN  3.410000e+02            NaN  3.840000e+02   \n",
       "75%     9.400000e+01         NaN  3.510000e+02            NaN  6.370000e+02   \n",
       "max     1.230000e+02         NaN  8.810000e+02            NaN  9.750000e+02   \n",
       "\n",
       "          PD_DESC CRM_ATPT_CPTD_CD   LAW_CAT_CD   BORO_NM LOC_OF_OCCUR_DESC  \\\n",
       "count     7369715          7375986      7375993   7364664           5832193   \n",
       "unique        422                2            3         5                 5   \n",
       "top     ASSAULT 3        COMPLETED  MISDEMEANOR  BROOKLYN            INSIDE   \n",
       "freq       640218          7250300      4140720   2186681           3747880   \n",
       "mean          NaN              NaN          NaN       NaN               NaN   \n",
       "std           NaN              NaN          NaN       NaN               NaN   \n",
       "min           NaN              NaN          NaN       NaN               NaN   \n",
       "25%           NaN              NaN          NaN       NaN               NaN   \n",
       "50%           NaN              NaN          NaN       NaN               NaN   \n",
       "75%           NaN              NaN          NaN       NaN               NaN   \n",
       "max           NaN              NaN          NaN       NaN               NaN   \n",
       "\n",
       "       PREM_TYP_DESC        JURIS_DESC  JURISDICTION_CODE      PARKS_NM  \\\n",
       "count        7335248           7375993       7.369715e+06         27663   \n",
       "unique            74                25                NaN          1205   \n",
       "top           STREET  N.Y. POLICE DEPT                NaN  CENTRAL PARK   \n",
       "freq         2352311           6556968                NaN          1641   \n",
       "mean             NaN               NaN       7.241108e-01           NaN   \n",
       "std              NaN               NaN       6.733209e+00           NaN   \n",
       "min              NaN               NaN       0.000000e+00           NaN   \n",
       "25%              NaN               NaN       0.000000e+00           NaN   \n",
       "50%              NaN               NaN       0.000000e+00           NaN   \n",
       "75%              NaN               NaN       0.000000e+00           NaN   \n",
       "max              NaN               NaN       9.700000e+01           NaN   \n",
       "\n",
       "         HADEVELOPT  HOUSING_PSA    X_COORD_CD    Y_COORD_CD SUSP_AGE_GROUP  \\\n",
       "count        346812     566710.0  7.358654e+06  7.358654e+06        2580758   \n",
       "unique          279       5087.0           NaN           NaN            111   \n",
       "top     CASTLE HILL        887.0           NaN           NaN          25-44   \n",
       "freq           7555       7264.0           NaN           NaN        1016688   \n",
       "mean            NaN          NaN  1.004851e+06  2.070959e+05            NaN   \n",
       "std             NaN          NaN  2.172117e+04  3.147528e+04            NaN   \n",
       "min             NaN          NaN  1.110000e+02  1.110000e+02            NaN   \n",
       "25%             NaN          NaN  9.917540e+05  1.843840e+05            NaN   \n",
       "50%             NaN          NaN  1.004411e+06  2.060280e+05            NaN   \n",
       "75%             NaN          NaN  1.016626e+06  2.351790e+05            NaN   \n",
       "max             NaN          NaN  1.067298e+06  7.250292e+06            NaN   \n",
       "\n",
       "       SUSP_RACE SUSP_SEX  TRANSIT_DISTRICT      Latitude     Longitude  \\\n",
       "count    3949299  3815985     163499.000000  7.358654e+06  7.358654e+06   \n",
       "unique         8        3               NaN           NaN           NaN   \n",
       "top        BLACK        M               NaN           NaN           NaN   \n",
       "freq     1473260  2395200               NaN           NaN           NaN   \n",
       "mean         NaN      NaN         13.619502  4.073506e+01 -7.392564e+01   \n",
       "std          NaN      NaN         12.487345  8.630425e-02  7.833433e-02   \n",
       "min          NaN      NaN          1.000000  4.011271e+01 -7.751921e+01   \n",
       "25%          NaN      NaN          3.000000  4.067272e+01 -7.397294e+01   \n",
       "50%          NaN      NaN         11.000000  4.073210e+01 -7.392724e+01   \n",
       "75%          NaN      NaN         30.000000  4.081217e+01 -7.388308e+01   \n",
       "max          NaN      NaN         34.000000  5.965727e+01 -7.368479e+01   \n",
       "\n",
       "                              Lat_Lon        PATROL_BORO STATION_NAME  \\\n",
       "count                         7358654            7369258       163499   \n",
       "unique                         198552                  8          372   \n",
       "top     (40.750430768, -73.989282176)  PATROL BORO BRONX   125 STREET   \n",
       "freq                            20668            1600584         8203   \n",
       "mean                              NaN                NaN          NaN   \n",
       "std                               NaN                NaN          NaN   \n",
       "min                               NaN                NaN          NaN   \n",
       "25%                               NaN                NaN          NaN   \n",
       "50%                               NaN                NaN          NaN   \n",
       "75%                               NaN                NaN          NaN   \n",
       "max                               NaN                NaN          NaN   \n",
       "\n",
       "       VIC_AGE_GROUP VIC_RACE  VIC_SEX  \n",
       "count        5737548  7375684  7375685  \n",
       "unique           202        8        5  \n",
       "top            25-44  UNKNOWN        F  \n",
       "freq         2433923  2432937  2887858  \n",
       "mean             NaN      NaN      NaN  \n",
       "std              NaN      NaN      NaN  \n",
       "min              NaN      NaN      NaN  \n",
       "25%              NaN      NaN      NaN  \n",
       "50%              NaN      NaN      NaN  \n",
       "75%              NaN      NaN      NaN  \n",
       "max              NaN      NaN      NaN  "
      ]
     },
     "execution_count": 5,
     "metadata": {},
     "output_type": "execute_result"
    }
   ],
   "source": [
    "# data summary\n",
    "df.describe(include='all')"
   ]
  },
  {
   "cell_type": "code",
   "execution_count": 6,
   "metadata": {},
   "outputs": [],
   "source": [
    "# conversion to datetime\n",
    "df['CMPLNT_FR_DT'] = pd.to_datetime(df['CMPLNT_FR_DT'], errors='coerce')\n",
    "df['CMPLNT_TO_DT'] = pd.to_datetime(df['CMPLNT_TO_DT'], errors='coerce')\n",
    "df['RPT_DT'] = pd.to_datetime(df['RPT_DT'], errors='coerce')"
   ]
  },
  {
   "cell_type": "code",
   "execution_count": 7,
   "metadata": {},
   "outputs": [],
   "source": [
    "# conversion to time in hours\n",
    "df['CMPLNT_FR_TM'] = pd.to_datetime(df['CMPLNT_FR_TM']).dt.hour\n",
    "df['CMPLNT_TO_TM'] = pd.to_datetime(df['CMPLNT_TO_TM'], errors='coerce').dt.hour"
   ]
  },
  {
   "cell_type": "code",
   "execution_count": 8,
   "metadata": {},
   "outputs": [],
   "source": [
    "# conversion to number\n",
    "df['HOUSING_PSA'] = pd.to_numeric(df['HOUSING_PSA'], errors='coerce')"
   ]
  },
  {
   "cell_type": "code",
   "execution_count": 9,
   "metadata": {
    "scrolled": true
   },
   "outputs": [
    {
     "data": {
      "text/plain": [
       "CMPLNT_FR_DT             781\n",
       "CMPLNT_FR_TM              48\n",
       "CMPLNT_TO_DT         1704208\n",
       "CMPLNT_TO_TM         1700917\n",
       "ADDR_PCT_CD             2166\n",
       "OFNS_DESC              18823\n",
       "PD_CD                   6278\n",
       "PD_DESC                 6278\n",
       "CRM_ATPT_CPTD_CD           7\n",
       "BORO_NM                11329\n",
       "LOC_OF_OCCUR_DESC    1543800\n",
       "PREM_TYP_DESC          40745\n",
       "JURISDICTION_CODE       6278\n",
       "PARKS_NM             7348330\n",
       "HADEVELOPT           7029181\n",
       "HOUSING_PSA          6818408\n",
       "X_COORD_CD             17339\n",
       "Y_COORD_CD             17339\n",
       "SUSP_AGE_GROUP       4795235\n",
       "SUSP_RACE            3426694\n",
       "SUSP_SEX             3560008\n",
       "TRANSIT_DISTRICT     7212494\n",
       "Latitude               17339\n",
       "Longitude              17339\n",
       "Lat_Lon                17339\n",
       "PATROL_BORO             6735\n",
       "STATION_NAME         7212494\n",
       "VIC_AGE_GROUP        1638445\n",
       "VIC_RACE                 309\n",
       "VIC_SEX                  308\n",
       "dtype: int64"
      ]
     },
     "execution_count": 9,
     "metadata": {},
     "output_type": "execute_result"
    }
   ],
   "source": [
    "# columns with null values\n",
    "df.isnull().sum()[df.isnull().sum() > 0]"
   ]
  },
  {
   "cell_type": "code",
   "execution_count": 10,
   "metadata": {},
   "outputs": [],
   "source": [
    "# drop 7 rows with null CRM_ATPT_CPTD_CD\n",
    "df = df.dropna(subset=['CRM_ATPT_CPTD_CD'])"
   ]
  },
  {
   "cell_type": "code",
   "execution_count": 11,
   "metadata": {},
   "outputs": [],
   "source": [
    "# drop rows from years 1900-2005 (fewer rows as compared to recent years)\n",
    "df = df[df['CMPLNT_FR_DT'].dt.year > 2005]"
   ]
  },
  {
   "cell_type": "markdown",
   "metadata": {},
   "source": [
    "Every KY_CD id is associated with some specifice offense description (OFNS_DESC). Replacing missing values of OFNS_DESC using KY_CD. \n",
    "\n",
    "Only KY_CD = 360 does not have any description associated with it hence there are still 4652 rows with NaN OFNS_DESC."
   ]
  },
  {
   "cell_type": "code",
   "execution_count": 12,
   "metadata": {},
   "outputs": [],
   "source": [
    "# handling missing values of OFNS_DESC\n",
    "df['OFNS_DESC'] = df.groupby('KY_CD')['OFNS_DESC'].fillna(method='ffill')"
   ]
  },
  {
   "cell_type": "markdown",
   "metadata": {},
   "source": [
    "Some OFNS_DESC have similar values such as 'ADMINISTRATIVE CODE' & 'ADMINISTRATIVE CODES', etc. Replacing it with the one same value. "
   ]
  },
  {
   "cell_type": "code",
   "execution_count": 21,
   "metadata": {},
   "outputs": [],
   "source": [
    "# replacing similar values\n",
    "df['OFNS_DESC'] = df['OFNS_DESC'].replace(['ADMINISTRATIVE CODES','OTHER STATE LAWS (NON PENAL LAW)','KIDNAPPING AND RELATED OFFENSES'],['ADMINISTRATIVE CODE','OTHER STATE LAWS (NON PENAL LA','KIDNAPPING & RELATED OFFENSES'])"
   ]
  },
  {
   "cell_type": "markdown",
   "metadata": {},
   "source": [
    "Every JURISDICTION_CODE is associated with some specifice jurisdiction description (JURIS_DESC). Replacing missing values of JURISDICTION_CODE using JURIS_DESC. \n",
    "\n",
    "Only 1 NaN JURISDICTION_CODE for N.Y. TRANSIT POLICE as it is not available in JURIS_DESC."
   ]
  },
  {
   "cell_type": "code",
   "execution_count": 16,
   "metadata": {},
   "outputs": [],
   "source": [
    "# handling missing values of JURISDICTION_CODE\n",
    "df['JURISDICTION_CODE'] = df.groupby('JURIS_DESC')['JURISDICTION_CODE'].fillna(method='ffill')"
   ]
  },
  {
   "cell_type": "markdown",
   "metadata": {},
   "source": [
    "Many rows have missing borough names but have information about latitude and longitude.With the help of geocoders, borough names are retrieved using latitudes and longitudes."
   ]
  },
  {
   "cell_type": "code",
   "execution_count": 18,
   "metadata": {},
   "outputs": [],
   "source": [
    "# subset of dataframe with rows containing empty borough names but have latitude & longitude information\n",
    "missing_borough_df = df[df['BORO_NM'].isnull() & (df['Lat_Lon'].isnull() == False)].copy()"
   ]
  },
  {
   "cell_type": "code",
   "execution_count": 19,
   "metadata": {},
   "outputs": [],
   "source": [
    "# initialize Nominatim API\n",
    "geolocator = Nominatim(user_agent=\"geoapiExercises\")\n",
    "\n",
    "# function to fetch borough names\n",
    "def getBoro(Boro, Latitude, Longitude):\n",
    "    if pd.isna(Boro):\n",
    "        if pd.isna(Latitude) == False & pd.isna(Longitude) == False:\n",
    "            addr = geolocator.reverse(str(Latitude)+\",\"+str(Longitude)).raw['address']\n",
    "            Boro = addr['suburb'].upper() if 'suburb' in addr else Boro\n",
    "    return Boro"
   ]
  },
  {
   "cell_type": "code",
   "execution_count": 20,
   "metadata": {},
   "outputs": [],
   "source": [
    "# applying function to get borough names\n",
    "missing_borough_df['BORO_NM'] = missing_borough_df.apply(lambda x: getBoro(x['BORO_NM'], x['Latitude'], x['Longitude']), axis=1)"
   ]
  },
  {
   "cell_type": "code",
   "execution_count": 22,
   "metadata": {},
   "outputs": [],
   "source": [
    "# replacing borough names so that all have same name\n",
    "missing_borough_df['BORO_NM'] = missing_borough_df['BORO_NM'].replace(['THE BRONX','KINGS COUNTY','QUEENS COUNTY'],['BRONX','BROOKLYN','QUEENS'])"
   ]
  },
  {
   "cell_type": "code",
   "execution_count": 23,
   "metadata": {},
   "outputs": [
    {
     "data": {
      "text/plain": [
       "BROOKLYN         3748\n",
       "BRONX            2429\n",
       "NaN              1993\n",
       "QUEENS           1960\n",
       "STATEN ISLAND     423\n",
       "MANHATTAN         161\n",
       "Name: BORO_NM, dtype: int64"
      ]
     },
     "execution_count": 23,
     "metadata": {},
     "output_type": "execute_result"
    }
   ],
   "source": [
    "missing_borough_df['BORO_NM'].value_counts(dropna=False)"
   ]
  },
  {
   "cell_type": "code",
   "execution_count": 25,
   "metadata": {},
   "outputs": [],
   "source": [
    "# adding borough names to original dataframe\n",
    "df.loc[missing_borough_df.index,'BORO_NM'] = missing_borough_df['BORO_NM']"
   ]
  },
  {
   "cell_type": "code",
   "execution_count": 26,
   "metadata": {},
   "outputs": [],
   "source": [
    "# drop rows (2465) with missing Boro_NM and latitude-longitude information\n",
    "df = df.dropna(subset=['BORO_NM'])"
   ]
  },
  {
   "cell_type": "code",
   "execution_count": 27,
   "metadata": {},
   "outputs": [],
   "source": [
    "# drop rows with missing time\n",
    "df = df.dropna(subset=['CMPLNT_FR_TM'])"
   ]
  },
  {
   "cell_type": "markdown",
   "metadata": {},
   "source": [
    "There are multiple unnecessary columns either in terms of their use in analysis or because of too many missing values. Columns such as PARKS_NM, HADEVELOPT, TRANSIT_DISTRICT, STATION_NAME, SUSP_AGE_GROUP, VIC_AGE_GROUP, HOUSING_PSA have too many missing or invalid values. Columns such as CMPLNT_NUM, X_COORD_CD, Y_COORD_CD, Latitude, Longitude seem to be unnecessary for further analysis."
   ]
  },
  {
   "cell_type": "code",
   "execution_count": 28,
   "metadata": {},
   "outputs": [],
   "source": [
    "# drop unnecessary columns\n",
    "df.drop(['CMPLNT_NUM', 'CMPLNT_TO_DT', 'CMPLNT_TO_TM', 'RPT_DT', 'PARKS_NM','HADEVELOPT','X_COORD_CD','Y_COORD_CD','TRANSIT_DISTRICT','Latitude','Longitude','Lat_Lon','STATION_NAME', 'HOUSING_PSA','SUSP_AGE_GROUP','VIC_AGE_GROUP'], axis=1, inplace=True)"
   ]
  },
  {
   "cell_type": "code",
   "execution_count": 29,
   "metadata": {},
   "outputs": [],
   "source": [
    "# adding new columns from complaint date\n",
    "df['Day']= df['CMPLNT_FR_DT'].dt.weekday #when Monday is 0 and Sunday is 6\n",
    "df['Month']= df['CMPLNT_FR_DT'].dt.month\n",
    "df['Year']= df['CMPLNT_FR_DT'].dt.year"
   ]
  },
  {
   "cell_type": "code",
   "execution_count": 30,
   "metadata": {},
   "outputs": [
    {
     "data": {
      "text/plain": [
       "(7352967, 22)"
      ]
     },
     "execution_count": 30,
     "metadata": {},
     "output_type": "execute_result"
    }
   ],
   "source": [
    "# size\n",
    "df.shape"
   ]
  },
  {
   "cell_type": "code",
   "execution_count": 31,
   "metadata": {},
   "outputs": [
    {
     "data": {
      "text/html": [
       "<div>\n",
       "<style scoped>\n",
       "    .dataframe tbody tr th:only-of-type {\n",
       "        vertical-align: middle;\n",
       "    }\n",
       "\n",
       "    .dataframe tbody tr th {\n",
       "        vertical-align: top;\n",
       "    }\n",
       "\n",
       "    .dataframe thead th {\n",
       "        text-align: right;\n",
       "    }\n",
       "</style>\n",
       "<table border=\"1\" class=\"dataframe\">\n",
       "  <thead>\n",
       "    <tr style=\"text-align: right;\">\n",
       "      <th></th>\n",
       "      <th>CMPLNT_FR_DT</th>\n",
       "      <th>CMPLNT_FR_TM</th>\n",
       "      <th>ADDR_PCT_CD</th>\n",
       "      <th>KY_CD</th>\n",
       "      <th>OFNS_DESC</th>\n",
       "      <th>PD_CD</th>\n",
       "      <th>PD_DESC</th>\n",
       "      <th>CRM_ATPT_CPTD_CD</th>\n",
       "      <th>LAW_CAT_CD</th>\n",
       "      <th>BORO_NM</th>\n",
       "      <th>LOC_OF_OCCUR_DESC</th>\n",
       "      <th>PREM_TYP_DESC</th>\n",
       "      <th>JURIS_DESC</th>\n",
       "      <th>JURISDICTION_CODE</th>\n",
       "      <th>SUSP_RACE</th>\n",
       "      <th>SUSP_SEX</th>\n",
       "      <th>PATROL_BORO</th>\n",
       "      <th>VIC_RACE</th>\n",
       "      <th>VIC_SEX</th>\n",
       "      <th>Day</th>\n",
       "      <th>Month</th>\n",
       "      <th>Year</th>\n",
       "    </tr>\n",
       "  </thead>\n",
       "  <tbody>\n",
       "    <tr>\n",
       "      <th>0</th>\n",
       "      <td>2019-12-31</td>\n",
       "      <td>17.0</td>\n",
       "      <td>32.0</td>\n",
       "      <td>118</td>\n",
       "      <td>DANGEROUS WEAPONS</td>\n",
       "      <td>793.0</td>\n",
       "      <td>WEAPONS POSSESSION 3</td>\n",
       "      <td>COMPLETED</td>\n",
       "      <td>FELONY</td>\n",
       "      <td>MANHATTAN</td>\n",
       "      <td>NaN</td>\n",
       "      <td>STREET</td>\n",
       "      <td>N.Y. POLICE DEPT</td>\n",
       "      <td>0.0</td>\n",
       "      <td>NaN</td>\n",
       "      <td>NaN</td>\n",
       "      <td>PATROL BORO MAN NORTH</td>\n",
       "      <td>UNKNOWN</td>\n",
       "      <td>E</td>\n",
       "      <td>1</td>\n",
       "      <td>12</td>\n",
       "      <td>2019</td>\n",
       "    </tr>\n",
       "    <tr>\n",
       "      <th>1</th>\n",
       "      <td>2019-12-29</td>\n",
       "      <td>16.0</td>\n",
       "      <td>47.0</td>\n",
       "      <td>113</td>\n",
       "      <td>FORGERY</td>\n",
       "      <td>729.0</td>\n",
       "      <td>FORGERY,ETC.,UNCLASSIFIED-FELO</td>\n",
       "      <td>COMPLETED</td>\n",
       "      <td>FELONY</td>\n",
       "      <td>BRONX</td>\n",
       "      <td>NaN</td>\n",
       "      <td>STREET</td>\n",
       "      <td>N.Y. POLICE DEPT</td>\n",
       "      <td>0.0</td>\n",
       "      <td>NaN</td>\n",
       "      <td>NaN</td>\n",
       "      <td>PATROL BORO BRONX</td>\n",
       "      <td>UNKNOWN</td>\n",
       "      <td>E</td>\n",
       "      <td>6</td>\n",
       "      <td>12</td>\n",
       "      <td>2019</td>\n",
       "    </tr>\n",
       "    <tr>\n",
       "      <th>2</th>\n",
       "      <td>2019-12-15</td>\n",
       "      <td>18.0</td>\n",
       "      <td>109.0</td>\n",
       "      <td>578</td>\n",
       "      <td>HARRASSMENT 2</td>\n",
       "      <td>638.0</td>\n",
       "      <td>HARASSMENT,SUBD 3,4,5</td>\n",
       "      <td>COMPLETED</td>\n",
       "      <td>VIOLATION</td>\n",
       "      <td>QUEENS</td>\n",
       "      <td>FRONT OF</td>\n",
       "      <td>STREET</td>\n",
       "      <td>N.Y. POLICE DEPT</td>\n",
       "      <td>0.0</td>\n",
       "      <td>UNKNOWN</td>\n",
       "      <td>M</td>\n",
       "      <td>PATROL BORO QUEENS NORTH</td>\n",
       "      <td>WHITE HISPANIC</td>\n",
       "      <td>F</td>\n",
       "      <td>6</td>\n",
       "      <td>12</td>\n",
       "      <td>2019</td>\n",
       "    </tr>\n",
       "    <tr>\n",
       "      <th>3</th>\n",
       "      <td>2019-12-28</td>\n",
       "      <td>1.0</td>\n",
       "      <td>47.0</td>\n",
       "      <td>126</td>\n",
       "      <td>MISCELLANEOUS PENAL LAW</td>\n",
       "      <td>117.0</td>\n",
       "      <td>RECKLESS ENDANGERMENT 1</td>\n",
       "      <td>COMPLETED</td>\n",
       "      <td>FELONY</td>\n",
       "      <td>BRONX</td>\n",
       "      <td>REAR OF</td>\n",
       "      <td>STREET</td>\n",
       "      <td>N.Y. POLICE DEPT</td>\n",
       "      <td>0.0</td>\n",
       "      <td>BLACK</td>\n",
       "      <td>M</td>\n",
       "      <td>PATROL BORO BRONX</td>\n",
       "      <td>UNKNOWN</td>\n",
       "      <td>E</td>\n",
       "      <td>5</td>\n",
       "      <td>12</td>\n",
       "      <td>2019</td>\n",
       "    </tr>\n",
       "    <tr>\n",
       "      <th>4</th>\n",
       "      <td>2008-09-05</td>\n",
       "      <td>21.0</td>\n",
       "      <td>NaN</td>\n",
       "      <td>101</td>\n",
       "      <td>MURDER &amp; NON-NEGL. MANSLAUGHTER</td>\n",
       "      <td>NaN</td>\n",
       "      <td>NaN</td>\n",
       "      <td>COMPLETED</td>\n",
       "      <td>FELONY</td>\n",
       "      <td>BROOKLYN</td>\n",
       "      <td>OUTSIDE</td>\n",
       "      <td>NaN</td>\n",
       "      <td>N.Y. POLICE DEPT</td>\n",
       "      <td>0.0</td>\n",
       "      <td>NaN</td>\n",
       "      <td>NaN</td>\n",
       "      <td>NaN</td>\n",
       "      <td>BLACK</td>\n",
       "      <td>M</td>\n",
       "      <td>4</td>\n",
       "      <td>9</td>\n",
       "      <td>2008</td>\n",
       "    </tr>\n",
       "  </tbody>\n",
       "</table>\n",
       "</div>"
      ],
      "text/plain": [
       "  CMPLNT_FR_DT  CMPLNT_FR_TM  ADDR_PCT_CD  KY_CD  \\\n",
       "0   2019-12-31          17.0         32.0    118   \n",
       "1   2019-12-29          16.0         47.0    113   \n",
       "2   2019-12-15          18.0        109.0    578   \n",
       "3   2019-12-28           1.0         47.0    126   \n",
       "4   2008-09-05          21.0          NaN    101   \n",
       "\n",
       "                         OFNS_DESC  PD_CD                         PD_DESC  \\\n",
       "0                DANGEROUS WEAPONS  793.0            WEAPONS POSSESSION 3   \n",
       "1                          FORGERY  729.0  FORGERY,ETC.,UNCLASSIFIED-FELO   \n",
       "2                    HARRASSMENT 2  638.0           HARASSMENT,SUBD 3,4,5   \n",
       "3          MISCELLANEOUS PENAL LAW  117.0         RECKLESS ENDANGERMENT 1   \n",
       "4  MURDER & NON-NEGL. MANSLAUGHTER    NaN                             NaN   \n",
       "\n",
       "  CRM_ATPT_CPTD_CD LAW_CAT_CD    BORO_NM LOC_OF_OCCUR_DESC PREM_TYP_DESC  \\\n",
       "0        COMPLETED     FELONY  MANHATTAN               NaN        STREET   \n",
       "1        COMPLETED     FELONY      BRONX               NaN        STREET   \n",
       "2        COMPLETED  VIOLATION     QUEENS          FRONT OF        STREET   \n",
       "3        COMPLETED     FELONY      BRONX           REAR OF        STREET   \n",
       "4        COMPLETED     FELONY   BROOKLYN           OUTSIDE           NaN   \n",
       "\n",
       "         JURIS_DESC  JURISDICTION_CODE SUSP_RACE SUSP_SEX  \\\n",
       "0  N.Y. POLICE DEPT                0.0       NaN      NaN   \n",
       "1  N.Y. POLICE DEPT                0.0       NaN      NaN   \n",
       "2  N.Y. POLICE DEPT                0.0   UNKNOWN        M   \n",
       "3  N.Y. POLICE DEPT                0.0     BLACK        M   \n",
       "4  N.Y. POLICE DEPT                0.0       NaN      NaN   \n",
       "\n",
       "                PATROL_BORO        VIC_RACE VIC_SEX  Day  Month  Year  \n",
       "0     PATROL BORO MAN NORTH         UNKNOWN       E    1     12  2019  \n",
       "1         PATROL BORO BRONX         UNKNOWN       E    6     12  2019  \n",
       "2  PATROL BORO QUEENS NORTH  WHITE HISPANIC       F    6     12  2019  \n",
       "3         PATROL BORO BRONX         UNKNOWN       E    5     12  2019  \n",
       "4                       NaN           BLACK       M    4      9  2008  "
      ]
     },
     "execution_count": 31,
     "metadata": {},
     "output_type": "execute_result"
    }
   ],
   "source": [
    "# preprocessed data\n",
    "df.head()"
   ]
  },
  {
   "cell_type": "code",
   "execution_count": 32,
   "metadata": {},
   "outputs": [],
   "source": [
    "# save cleaned dataframe to csv\n",
    "df.to_csv('cleaned.csv', index=False)"
   ]
  },
  {
   "cell_type": "markdown",
   "metadata": {},
   "source": [
    "#### Exploratory Data Analysis"
   ]
  },
  {
   "cell_type": "markdown",
   "metadata": {},
   "source": [
    "Most and least occuring crimes in New York city"
   ]
  },
  {
   "cell_type": "code",
   "execution_count": 33,
   "metadata": {
    "scrolled": false
   },
   "outputs": [
    {
     "data": {
      "image/png": "[encoded data removed]",
      "text/plain": [
       "<Figure size 1440x864 with 2 Axes>"
      ]
     },
     "metadata": {
      "needs_background": "light"
     },
     "output_type": "display_data"
    }
   ],
   "source": [
    "# top 10 offenses\n",
    "top_10_crimes = df['OFNS_DESC'].value_counts()[:10]\n",
    "# least 10 offenses\n",
    "least_10_crimes = df['OFNS_DESC'].value_counts()[-10:]\n",
    "\n",
    "fig, axes = plt.subplots(nrows=1, ncols=2, figsize=(20,12))\n",
    "top_10_crimes.plot(kind='bar', title='Top 10 Crimes in NYC', ax=axes[0])\n",
    "least_10_crimes.plot(kind='bar', title='Least 10 Crimes in NYC', ax=axes[1])\n",
    "plt.show()"
   ]
  },
  {
   "cell_type": "markdown",
   "metadata": {},
   "source": [
    "Crime Status among different Crime Levels"
   ]
  },
  {
   "cell_type": "code",
   "execution_count": 34,
   "metadata": {
    "scrolled": false
   },
   "outputs": [
    {
     "data": {
      "image/png": "[encoded data removed]",
      "text/plain": [
       "<Figure size 470.75x360 with 1 Axes>"
      ]
     },
     "metadata": {
      "needs_background": "light"
     },
     "output_type": "display_data"
    }
   ],
   "source": [
    "# checking status of crime within each crime level\n",
    "sns.catplot(kind='count', data=df, x='LAW_CAT_CD', hue='CRM_ATPT_CPTD_CD')\n",
    "plt.show()"
   ]
  },
  {
   "cell_type": "markdown",
   "metadata": {},
   "source": [
    "Premises where crimes are frequently occurred -"
   ]
  },
  {
   "cell_type": "code",
   "execution_count": 35,
   "metadata": {},
   "outputs": [
    {
     "data": {
      "image/png": "[encoded data removed]",
      "text/plain": [
       "<Figure size 432x288 with 1 Axes>"
      ]
     },
     "metadata": {
      "needs_background": "light"
     },
     "output_type": "display_data"
    }
   ],
   "source": [
    "# top 10 crime occurring premises\n",
    "top_10_premises = df['PREM_TYP_DESC'].value_counts()[:10].sort_values()\n",
    "top_10_premises.plot(kind='barh', title='Top 10 premises in NYC')\n",
    "plt.show()"
   ]
  },
  {
   "cell_type": "markdown",
   "metadata": {},
   "source": [
    "Distribution of Victim Gender -"
   ]
  },
  {
   "cell_type": "code",
   "execution_count": 36,
   "metadata": {},
   "outputs": [
    {
     "data": {
      "image/png": "[encoded data removed]",
      "text/plain": [
       "<Figure size 432x288 with 1 Axes>"
      ]
     },
     "metadata": {},
     "output_type": "display_data"
    }
   ],
   "source": [
    "# gender distribution among victims\n",
    "df['VIC_SEX'].value_counts().plot(kind='pie', autopct='%1.1f%%', shadow=True, startangle=90)\n",
    "plt.show()"
   ]
  },
  {
   "cell_type": "markdown",
   "metadata": {},
   "source": [
    "Crime Analysis by Time"
   ]
  },
  {
   "cell_type": "code",
   "execution_count": 37,
   "metadata": {},
   "outputs": [
    {
     "data": {
      "image/png": "[encoded data removed]",
      "text/plain": [
       "<Figure size 432x288 with 1 Axes>"
      ]
     },
     "metadata": {
      "needs_background": "light"
     },
     "output_type": "display_data"
    }
   ],
   "source": [
    "# total number of crimes per year\n",
    "df['CMPLNT_FR_DT'].dt.year.value_counts().sort_index().plot(kind=\"line\", title = \"Total Crime Events by Year\")\n",
    "plt.show()"
   ]
  },
  {
   "cell_type": "code",
   "execution_count": 38,
   "metadata": {},
   "outputs": [
    {
     "data": {
      "image/png": "[encoded data removed]",
      "text/plain": [
       "<Figure size 432x288 with 1 Axes>"
      ]
     },
     "metadata": {
      "needs_background": "light"
     },
     "output_type": "display_data"
    }
   ],
   "source": [
    "# total crimes per month\n",
    "df.groupby(df['CMPLNT_FR_DT'].dt.month).size().plot(kind = 'bar', title ='Total Crime Events by Month', color = '#C0392B',rot=0)\n",
    "plt.show()"
   ]
  },
  {
   "cell_type": "code",
   "execution_count": 44,
   "metadata": {},
   "outputs": [
    {
     "data": {
      "image/png": "[encoded data removed]",
      "text/plain": [
       "<Figure size 864x576 with 1 Axes>"
      ]
     },
     "metadata": {
      "needs_background": "light"
     },
     "output_type": "display_data"
    }
   ],
   "source": [
    "# crimes per hour\n",
    "df.groupby(df['CMPLNT_FR_TM']).size().plot(figsize=(12,8), kind = 'bar', title ='Total Crime Events by hour', color = '#E67E22', xlabel = 'hours', rot=0)\n",
    "plt.show()"
   ]
  },
  {
   "cell_type": "code",
   "execution_count": 38,
   "metadata": {},
   "outputs": [
    {
     "data": {
      "image/png": "[encoded data removed]",
      "text/plain": [
       "<Figure size 864x576 with 1 Axes>"
      ]
     },
     "metadata": {
      "needs_background": "light"
     },
     "output_type": "display_data"
    }
   ],
   "source": [
    "# crime rate by borough\n",
    "dv = df[['Year', 'BORO_NM']].value_counts().rename_axis(['Year','Boro_Nm']).reset_index(name='counts')\n",
    "plt.figure(figsize=(12,8))\n",
    "sns.lineplot(data=dv, x=\"Year\", y=\"counts\", hue=\"Boro_Nm\")\n",
    "plt.show()"
   ]
  },
  {
   "cell_type": "markdown",
   "metadata": {},
   "source": [
    "Crime Analysis by Borough"
   ]
  },
  {
   "cell_type": "code",
   "execution_count": 45,
   "metadata": {},
   "outputs": [
    {
     "data": {
      "image/png": "[encoded data removed]",
      "text/plain": [
       "<Figure size 432x288 with 1 Axes>"
      ]
     },
     "metadata": {
      "needs_background": "light"
     },
     "output_type": "display_data"
    }
   ],
   "source": [
    "# total crimes in each borough\n",
    "df['BORO_NM'].value_counts().sort_values().plot(kind=\"barh\", color = '#1ABC9C', title = 'Total of Crime Events by Borough')\n",
    "plt.show()"
   ]
  },
  {
   "cell_type": "code",
   "execution_count": 47,
   "metadata": {},
   "outputs": [
    {
     "data": {
      "image/png": "[encoded data removed]",
      "text/plain": [
       "<Figure size 471.625x360 with 1 Axes>"
      ]
     },
     "metadata": {
      "needs_background": "light"
     },
     "output_type": "display_data"
    }
   ],
   "source": [
    "# crime levels in each borough\n",
    "sns.catplot(kind='count', data=df, x='BORO_NM', hue='LAW_CAT_CD')\n",
    "plt.show()"
   ]
  },
  {
   "cell_type": "code",
   "execution_count": 48,
   "metadata": {},
   "outputs": [
    {
     "data": {
      "image/png": "[encoded data removed]",
      "text/plain": [
       "<Figure size 1440x864 with 6 Axes>"
      ]
     },
     "metadata": {
      "needs_background": "light"
     },
     "output_type": "display_data"
    }
   ],
   "source": [
    "# top 10 offenses in each borough\n",
    "boroughs = ['BROOKLYN','MANHATTAN','BRONX','QUEENS','STATEN ISLAND']\n",
    "k = 0\n",
    "fig, axes = plt.subplots(nrows=3, ncols=2, figsize=(20,12))\n",
    "\n",
    "for i in range(3):\n",
    "    for j in range(2):\n",
    "        if(k < 5):\n",
    "            top_10_crimes = df[df['BORO_NM']==boroughs[k]]['OFNS_DESC'].value_counts()[:10]\n",
    "            top_10_crimes.plot(kind='barh', title='Top 10 Crimes in '+boroughs[k], ax=axes[i][j])\n",
    "            k = k+1\n",
    "\n",
    "plt.show()"
   ]
  },
  {
   "cell_type": "markdown",
   "metadata": {},
   "source": [
    "#### Model Training & Evaluation"
   ]
  },
  {
   "cell_type": "code",
   "execution_count": 20,
   "metadata": {},
   "outputs": [],
   "source": [
    "# reading from cleaned data file\n",
    "df = pd.read_csv(\"cleaned.csv\")"
   ]
  },
  {
   "cell_type": "markdown",
   "metadata": {},
   "source": [
    "Since data is imbalanced, focusing on only top 5 KY_CD for crime prediction"
   ]
  },
  {
   "cell_type": "code",
   "execution_count": 21,
   "metadata": {
    "scrolled": true
   },
   "outputs": [
    {
     "data": {
      "text/plain": [
       "341    1241585\n",
       "578     943917\n",
       "344     773601\n",
       "109     634427\n",
       "351     618498\n",
       "361     381838\n",
       "235     342428\n",
       "106     285937\n",
       "105     266246\n",
       "107     253938\n",
       "126     176056\n",
       "359     137428\n",
       "110     133594\n",
       "121     125480\n",
       "347      96331\n",
       "348      91752\n",
       "236      88489\n",
       "117      84419\n",
       "352      82072\n",
       "112      73743\n",
       "118      72878\n",
       "113      72367\n",
       "233      69259\n",
       "340      43550\n",
       "232      24107\n",
       "358      23038\n",
       "353      21946\n",
       "343      20681\n",
       "104      20634\n",
       "355      18153\n",
       "114      17594\n",
       "116      16567\n",
       "360      15942\n",
       "365      14557\n",
       "111      13150\n",
       "678      11485\n",
       "364       7835\n",
       "125       7074\n",
       "101       4886\n",
       "231       3844\n",
       "238       3441\n",
       "124       2921\n",
       "350       2920\n",
       "345       1865\n",
       "675       1713\n",
       "342       1326\n",
       "346       1277\n",
       "363       1044\n",
       "356       1037\n",
       "572       1024\n",
       "120        547\n",
       "230        448\n",
       "677        347\n",
       "571        245\n",
       "115        239\n",
       "237        207\n",
       "103        172\n",
       "122        140\n",
       "354        128\n",
       "234        117\n",
       "102        104\n",
       "455         70\n",
       "119         61\n",
       "366         58\n",
       "349         55\n",
       "676         36\n",
       "672         23\n",
       "685         19\n",
       "460         16\n",
       "881         15\n",
       "357         12\n",
       "123          7\n",
       "362          4\n",
       "577          3\n",
       "Name: KY_CD, dtype: int64"
      ]
     },
     "execution_count": 21,
     "metadata": {},
     "output_type": "execute_result"
    }
   ],
   "source": [
    "# 75 KY_CD classes with only few with million rows\n",
    "df['KY_CD'].value_counts()"
   ]
  },
  {
   "cell_type": "code",
   "execution_count": 3,
   "metadata": {},
   "outputs": [],
   "source": [
    "# top 5 occuring KY_CD\n",
    "top_5_crimes = df['KY_CD'].value_counts()[:5]\n",
    "# selecting only those rows\n",
    "df1 = df[df['KY_CD'].isin(top_5_crimes.index)]"
   ]
  },
  {
   "cell_type": "code",
   "execution_count": 4,
   "metadata": {},
   "outputs": [
    {
     "data": {
      "text/plain": [
       "(4212028, 22)"
      ]
     },
     "execution_count": 4,
     "metadata": {},
     "output_type": "execute_result"
    }
   ],
   "source": [
    "# size\n",
    "df1.shape"
   ]
  },
  {
   "cell_type": "markdown",
   "metadata": {},
   "source": [
    "Selecting columns for model and Splitting data into training & testing dataset"
   ]
  },
  {
   "cell_type": "code",
   "execution_count": 5,
   "metadata": {},
   "outputs": [],
   "source": [
    "# column selection\n",
    "data = df1[['Day','Month','CMPLNT_FR_TM','BORO_NM','CRM_ATPT_CPTD_CD','LAW_CAT_CD', 'KY_CD']]\n",
    "# data splitting\n",
    "X_train, X_test, y_train, y_test = train_test_split(data.drop(columns = ['KY_CD'], axis=1), data['KY_CD'], test_size=0.3, random_state=2018, shuffle=True)"
   ]
  },
  {
   "cell_type": "markdown",
   "metadata": {},
   "source": [
    "Convering categorical variables - 'BORO_NM', 'CRM_ATPT_CPTD_CD', 'LAW_CAT_CD'"
   ]
  },
  {
   "cell_type": "code",
   "execution_count": 6,
   "metadata": {},
   "outputs": [],
   "source": [
    "# one hot encoding\n",
    "X_train = pd.get_dummies(X_train)\n",
    "X_test = pd.get_dummies(X_test)"
   ]
  },
  {
   "cell_type": "code",
   "execution_count": 7,
   "metadata": {},
   "outputs": [
    {
     "name": "stdout",
     "output_type": "stream",
     "text": [
      "(2948419, 13)\n",
      "(1263609, 13)\n"
     ]
    }
   ],
   "source": [
    "print(X_train.shape)\n",
    "print(X_test.shape)"
   ]
  },
  {
   "cell_type": "markdown",
   "metadata": {},
   "source": [
    "Model 1 - Decision Tree"
   ]
  },
  {
   "cell_type": "code",
   "execution_count": 8,
   "metadata": {},
   "outputs": [],
   "source": [
    "# decision tree\n",
    "dec_tree = tree.DecisionTreeClassifier()\n",
    "dec_tree = dec_tree.fit(X_train, y_train)"
   ]
  },
  {
   "cell_type": "code",
   "execution_count": 9,
   "metadata": {},
   "outputs": [],
   "source": [
    "pred_test = dec_tree.predict(X_test) # Predict the labels\n",
    "pred_test_prob = dec_tree.predict_proba(X_test) # Predict the probabilities"
   ]
  },
  {
   "cell_type": "markdown",
   "metadata": {},
   "source": [
    "Performance Evaluation of Decision Tree"
   ]
  },
  {
   "cell_type": "code",
   "execution_count": 10,
   "metadata": {},
   "outputs": [
    {
     "name": "stdout",
     "output_type": "stream",
     "text": [
      "Accuracy: 0.685737\n",
      "Precision: 0.668118\n",
      "Recall: 0.639225\n",
      "F1 score: 0.622213\n"
     ]
    }
   ],
   "source": [
    "# accuracy: (tp + tn) / (p + n)\n",
    "accuracy = metrics.accuracy_score(y_test, pred_test)\n",
    "print('Accuracy: %f' % accuracy)\n",
    "\n",
    "# precision tp / (tp + fp)\n",
    "precision = metrics.precision_score(y_test, pred_test, average='macro')\n",
    "print('Precision: %f' % precision)\n",
    "\n",
    "#recall: tp / (tp + fn)\n",
    "recall = metrics.recall_score(y_test, pred_test, average='macro')\n",
    "print('Recall: %f' % recall)\n",
    "\n",
    "# f1: 2 tp / (2 tp + fp + fn)\n",
    "f1 = metrics.f1_score(y_test, pred_test, average='macro')\n",
    "print('F1 score: %f' % f1)"
   ]
  },
  {
   "cell_type": "markdown",
   "metadata": {},
   "source": [
    "Model 2 - Random Forest"
   ]
  },
  {
   "cell_type": "code",
   "execution_count": 11,
   "metadata": {},
   "outputs": [],
   "source": [
    "# random forest\n",
    "randf = RandomForestClassifier(max_depth=4, random_state=2018, n_estimators=100)\n",
    "randf = randf.fit(X_train, y_train)"
   ]
  },
  {
   "cell_type": "code",
   "execution_count": 12,
   "metadata": {},
   "outputs": [
    {
     "data": {
      "text/plain": [
       "array([7.75843637e-04, 5.58291595e-05, 1.00392446e-02, 2.15714608e-03,\n",
       "       2.01041040e-04, 9.05898060e-03, 1.08088625e-04, 7.44827947e-04,\n",
       "       5.01906922e-04, 3.75824252e-04, 2.77268098e-01, 2.82238891e-01,\n",
       "       4.16474277e-01])"
      ]
     },
     "execution_count": 12,
     "metadata": {},
     "output_type": "execute_result"
    }
   ],
   "source": [
    "# prediction\n",
    "pred_test = randf.predict(X_test)\n",
    "pred_test_prob = randf.predict_proba(X_test)\n",
    "\n",
    "randf.feature_importances_"
   ]
  },
  {
   "cell_type": "markdown",
   "metadata": {},
   "source": [
    "Performance Evaluation of Random Forest"
   ]
  },
  {
   "cell_type": "code",
   "execution_count": 14,
   "metadata": {},
   "outputs": [
    {
     "name": "stdout",
     "output_type": "stream",
     "text": [
      "Accuracy: 0.679060\n"
     ]
    },
    {
     "name": "stderr",
     "output_type": "stream",
     "text": [
      "C:\\Users\\siddh\\anaconda3\\lib\\site-packages\\sklearn\\metrics\\_classification.py:1221: UndefinedMetricWarning: Precision is ill-defined and being set to 0.0 in labels with no predicted samples. Use `zero_division` parameter to control this behavior.\n",
      "  _warn_prf(average, modifier, msg_start, len(result))\n"
     ]
    },
    {
     "name": "stdout",
     "output_type": "stream",
     "text": [
      "Precision: 0.591762\n",
      "Recall: 0.614325\n",
      "F1 score: 0.564143\n"
     ]
    }
   ],
   "source": [
    "# accuracy\n",
    "accuracy = metrics.accuracy_score(y_test, pred_test)\n",
    "print('Accuracy: %f' % accuracy)\n",
    "\n",
    "# precision\n",
    "precision = metrics.precision_score(y_test, pred_test, average='macro')\n",
    "print('Precision: %f' % precision)\n",
    "\n",
    "#recall\n",
    "recall = metrics.recall_score(y_test, pred_test, average='macro')\n",
    "print('Recall: %f' % recall)\n",
    "\n",
    "# f1\n",
    "f1 = metrics.f1_score(y_test, pred_test, average='macro')\n",
    "print('F1 score: %f' % f1)"
   ]
  },
  {
   "cell_type": "markdown",
   "metadata": {},
   "source": [
    "Model 3 - KNN"
   ]
  },
  {
   "cell_type": "code",
   "execution_count": 15,
   "metadata": {},
   "outputs": [
    {
     "data": {
      "text/plain": [
       "StandardScaler()"
      ]
     },
     "execution_count": 15,
     "metadata": {},
     "output_type": "execute_result"
    }
   ],
   "source": [
    "# Normalization\n",
    "scaler = StandardScaler()  \n",
    "scaler.fit(X_train)"
   ]
  },
  {
   "cell_type": "code",
   "execution_count": 16,
   "metadata": {},
   "outputs": [],
   "source": [
    "X_train = scaler.transform(X_train)  \n",
    "X_test = scaler.transform(X_test)"
   ]
  },
  {
   "cell_type": "code",
   "execution_count": 17,
   "metadata": {},
   "outputs": [],
   "source": [
    "# KNN\n",
    "knn = KNeighborsClassifier(n_neighbors=15)\n",
    "knn = knn.fit(X_train, y_train)"
   ]
  },
  {
   "cell_type": "code",
   "execution_count": 18,
   "metadata": {},
   "outputs": [],
   "source": [
    "# prediction\n",
    "pred_test = knn.predict(X_test)\n",
    "pred_test_prob = knn.predict_proba(X_test)"
   ]
  },
  {
   "cell_type": "markdown",
   "metadata": {},
   "source": [
    "Performance Evaluation of KNN"
   ]
  },
  {
   "cell_type": "code",
   "execution_count": 19,
   "metadata": {},
   "outputs": [
    {
     "name": "stdout",
     "output_type": "stream",
     "text": [
      "Accuracy: 0.669508\n",
      "Precision: 0.642720\n",
      "Recall: 0.632927\n",
      "F1 score: 0.623265\n"
     ]
    }
   ],
   "source": [
    "# accuracy\n",
    "accuracy = metrics.accuracy_score(y_test, pred_test)\n",
    "print('Accuracy: %f' % accuracy)\n",
    "\n",
    "# precision\n",
    "precision = metrics.precision_score(y_test, pred_test, average='macro')\n",
    "print('Precision: %f' % precision)\n",
    "\n",
    "#recall\n",
    "recall = metrics.recall_score(y_test, pred_test, average='macro')\n",
    "print('Recall: %f' % recall)\n",
    "\n",
    "# f1\n",
    "f1 = metrics.f1_score(y_test, pred_test, average='macro')\n",
    "print('F1 score: %f' % f1)"
   ]
  },
  {
   "cell_type": "markdown",
   "metadata": {},
   "source": [
    "Decision Tree performs comparatively better than Random Forest and KNN for crime type prediction."
   ]
  }
 ],
 "metadata": {
  "kernelspec": {
   "display_name": "Python 3",
   "language": "python",
   "name": "python3"
  },
  "language_info": {
   "codemirror_mode": {
    "name": "ipython",
    "version": 3
   },
   "file_extension": ".py",
   "mimetype": "text/x-python",
   "name": "python",
   "nbconvert_exporter": "python",
   "pygments_lexer": "ipython3",
   "version": "3.8.5"
  }
 },
 "nbformat": 4,
 "nbformat_minor": 4
}
